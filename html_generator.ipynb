{
  "nbformat": 4,
  "nbformat_minor": 0,
  "metadata": {
    "colab": {
      "provenance": []
    },
    "kernelspec": {
      "name": "python3",
      "display_name": "Python 3"
    },
    "language_info": {
      "name": "python"
    }
  },
  "cells": [
    {
      "cell_type": "code",
      "source": [
        "raw = ('div class=\"bulma\"',\n",
        "          ('h1', 'Welcome to the Website'),\n",
        "          ('ul',\n",
        "              ('li', 'Home'),\n",
        "              ('li', 'About'),\n",
        "              ('li', 'Contact')),\n",
        "\n",
        "          ('script',\n",
        "            \"\"\"\n",
        "            javascript jquery code here\n",
        "            \"\"\"\n",
        "\n",
        "           ),\n",
        "\n",
        "           ('style',\n",
        "            \"\"\"\n",
        "            css styles here\n",
        "            \"\"\")\n",
        "       )"
      ],
      "metadata": {
        "id": "j8fT-FTu_jDO"
      },
      "execution_count": null,
      "outputs": []
    },
    {
      "cell_type": "code",
      "source": [
        "raw"
      ],
      "metadata": {
        "colab": {
          "base_uri": "https://localhost:8080/"
        },
        "id": "00zJWFoNKp9k",
        "outputId": "a5f5e2bb-e912-4510-90df-4c8f39b76c6a"
      },
      "execution_count": null,
      "outputs": [
        {
          "output_type": "execute_result",
          "data": {
            "text/plain": [
              "('div class=\"bulma\"',\n",
              " ('h1', 'Welcome to the Website'),\n",
              " ('ul', ('li', 'Home'), ('li', 'About'), ('li', 'Contact')),\n",
              " ('script', '\\n            javascript jquery code here\\n            '),\n",
              " ('style', '\\n            css styles here\\n            '))"
            ]
          },
          "metadata": {},
          "execution_count": 26
        }
      ]
    },
    {
      "cell_type": "code",
      "source": [
        "class IndentPrint:\n",
        "  def __init__(self, indent=0):\n",
        "    self.indent = indent\n",
        "  def print(self, text, extra_indent=0): print('\\t'*(self.indent+extra_indent) + text)\n",
        "\n",
        "\n",
        "self_closing_tags = ['img', 'br', 'link', 'meta', 'title']\n",
        "\n",
        "\n",
        "def print_html(raw, indent=0):\n",
        "  # print('raw>',raw)\n",
        "  if raw is None: return\n",
        "  splitted = raw[0].split(maxsplit=1)\n",
        "  tag, attributes = splitted if len(splitted)>1 else (splitted[0], '')\n",
        "  ip = IndentPrint(indent)\n",
        "  ip.print(f'<{tag} {attributes}>')\n",
        "  for c in raw[1:]:\n",
        "    if isinstance(c, str):\n",
        "      ip.print(c, 1)\n",
        "    else:\n",
        "      print_html(c, indent+1)\n",
        "  ip.print('>' if tag in self_closing_tags else f'</{tag}>')"
      ],
      "metadata": {
        "id": "qOwMO4BM_6V8"
      },
      "execution_count": null,
      "outputs": []
    },
    {
      "cell_type": "code",
      "source": [
        "print_html(raw)"
      ],
      "metadata": {
        "id": "H_njRyVQAVK-",
        "colab": {
          "base_uri": "https://localhost:8080/"
        },
        "outputId": "f0d31224-a3f2-4a37-a987-e7224d2088f3"
      },
      "execution_count": null,
      "outputs": [
        {
          "output_type": "stream",
          "name": "stdout",
          "text": [
            "<div class=\"bulma\">\n",
            "\t<h1 >\n",
            "\t\tWelcome to the Website\n",
            "\t</h1>\n",
            "\t<ul >\n",
            "\t\t<li >\n",
            "\t\t\tHome\n",
            "\t\t</li>\n",
            "\t\t<li >\n",
            "\t\t\tAbout\n",
            "\t\t</li>\n",
            "\t\t<li >\n",
            "\t\t\tContact\n",
            "\t\t</li>\n",
            "\t</ul>\n",
            "\t<script >\n",
            "\t\t\n",
            "            javascript jquery code here\n",
            "            \n",
            "\t</script>\n",
            "\t<style >\n",
            "\t\t\n",
            "            css styles here\n",
            "            \n",
            "\t</style>\n",
            "</div>\n"
          ]
        }
      ]
    },
    {
      "cell_type": "code",
      "source": [
        "def lis(*values):\n",
        "  return ('ul', *[('li', v) for v in values])\n",
        "\n",
        "print_html(lis('a','b','c'))"
      ],
      "metadata": {
        "colab": {
          "base_uri": "https://localhost:8080/"
        },
        "id": "7x6bXDiJAWcJ",
        "outputId": "ca059ec7-717e-414c-e149-c7346d2e6833"
      },
      "execution_count": null,
      "outputs": [
        {
          "output_type": "stream",
          "name": "stdout",
          "text": [
            "<ul>\n",
            "\t<li>\n",
            "\t\ta\n",
            "\t</li>\n",
            "\t<li>\n",
            "\t\tb\n",
            "\t</li>\n",
            "\t<li>\n",
            "\t\tc\n",
            "\t</li>\n",
            "</ul>\n"
          ]
        }
      ]
    },
    {
      "cell_type": "code",
      "source": [
        "raw2 = ('div class=\"bulma\"',\n",
        "          ('h1', 'Welcome to the Website'),\n",
        "          lis(\n",
        "              'Home','About','Contact'))\n",
        "\n",
        "print_html(raw2)"
      ],
      "metadata": {
        "colab": {
          "base_uri": "https://localhost:8080/"
        },
        "id": "BPmaVryUGob1",
        "outputId": "4f5f0653-0e21-4026-8c4f-1af4e42e992c"
      },
      "execution_count": null,
      "outputs": [
        {
          "output_type": "stream",
          "name": "stdout",
          "text": [
            "<divclass=\"bulma\">\n",
            "\t<h1>\n",
            "\t\tWelcome to the Website\n",
            "\t</h1>\n",
            "\t<ul>\n",
            "\t\t<li>\n",
            "\t\t\tHome\n",
            "\t\t</li>\n",
            "\t\t<li>\n",
            "\t\t\tAbout\n",
            "\t\t</li>\n",
            "\t\t<li>\n",
            "\t\t\tContact\n",
            "\t\t</li>\n",
            "\t</ul>\n",
            "</div>\n"
          ]
        }
      ]
    },
    {
      "cell_type": "code",
      "source": [
        "def button(label, on_click=None, id='button_23'):\n",
        "    return (f'div id={id} class=\"button\"',\n",
        "      ('button', label),\n",
        "      ('script',\n",
        "        f\"\"\"\n",
        "          $('#{id}').on('click', function() {{\n",
        "            {on_click}\n",
        "          }}\n",
        "        \"\"\") if on_click else None)\n",
        "\n",
        "print_html(button('click me', 'alert(\"hello\")'))"
      ],
      "metadata": {
        "colab": {
          "base_uri": "https://localhost:8080/"
        },
        "id": "ThpKe-3mVs2D",
        "outputId": "1879a36d-95c5-483f-a895-7863493d387e"
      },
      "execution_count": null,
      "outputs": [
        {
          "output_type": "stream",
          "name": "stdout",
          "text": [
            "<div id=button_23 class=\"button\">\n",
            "\t<button >\n",
            "\t\tclick me\n",
            "\t</button>\n",
            "\t<script >\n",
            "\t\t\n",
            "          $('#button_23').on('click', function() {\n",
            "            alert(\"hello\")\n",
            "          }\n",
            "        \n",
            "\t</script>\n",
            "</div>\n"
          ]
        }
      ]
    },
    {
      "cell_type": "code",
      "source": [
        "print_html(\n",
        "    ('div id=5', button('hey'), ('a', button('hi')))\n",
        ")"
      ],
      "metadata": {
        "colab": {
          "base_uri": "https://localhost:8080/"
        },
        "id": "r5CA_iHAGqAj",
        "outputId": "3c07ec66-fb5b-4233-9f78-f922b223056e"
      },
      "execution_count": null,
      "outputs": [
        {
          "output_type": "stream",
          "name": "stdout",
          "text": [
            "<div id=5>\n",
            "\t<div id=button_23 class=\"button\">\n",
            "\t\t<button >\n",
            "\t\t\they\n",
            "\t\t</button>\n",
            "\t\t<script >\n",
            "\t\t\t\n",
            "          $('#button_23').on('click', function() {\n",
            "            None\n",
            "          }\n",
            "        \n",
            "\t\t</script>\n",
            "\t</div>\n",
            "\t<a >\n",
            "\t\t<div id=button_23 class=\"button\">\n",
            "\t\t\t<button >\n",
            "\t\t\t\thi\n",
            "\t\t\t</button>\n",
            "\t\t\t<script >\n",
            "\t\t\t\t\n",
            "          $('#button_23').on('click', function() {\n",
            "            None\n",
            "          }\n",
            "        \n",
            "\t\t\t</script>\n",
            "\t\t</div>\n",
            "\t</a>\n",
            "</div>\n"
          ]
        }
      ]
    },
    {
      "cell_type": "code",
      "source": [
        "print_html(Button('click me', 'alert(\"hello\")'))"
      ],
      "metadata": {
        "colab": {
          "base_uri": "https://localhost:8080/"
        },
        "id": "xyJlVtVOHihW",
        "outputId": "2e363d0f-2897-46f2-fd05-2360fd35cd27"
      },
      "execution_count": null,
      "outputs": [
        {
          "output_type": "stream",
          "name": "stdout",
          "text": [
            "<divid=button_23 class=\"button\">\n",
            "\t<button>\n",
            "\t\tclick me\n",
            "\t</button>\n",
            "\t<script>\n",
            "\t\t\n",
            "        $('#button_23').on('click', function() {\n",
            "          alert(\"hello\")\n",
            "        }\n",
            "        \n",
            "\t</script>\n",
            "</div>\n"
          ]
        }
      ]
    },
    {
      "cell_type": "code",
      "source": [
        "b = Button('click me', on_click='alert(\"hello\")')\n",
        "b[2]"
      ],
      "metadata": {
        "colab": {
          "base_uri": "https://localhost:8080/"
        },
        "id": "lrAm9Y0NSPl4",
        "outputId": "73275c8b-c06a-4b14-d44f-08d8b4b0ed0f"
      },
      "execution_count": null,
      "outputs": [
        {
          "output_type": "execute_result",
          "data": {
            "text/plain": [
              "('script',\n",
              " '\\n        $(\\'#button_23\\').on(\\'click\\', function() {\\n          alert(\"hello\")\\n        }\\n        ')"
            ]
          },
          "metadata": {},
          "execution_count": 79
        }
      ]
    },
    {
      "cell_type": "code",
      "source": [
        "b.raw[0]"
      ],
      "metadata": {
        "colab": {
          "base_uri": "https://localhost:8080/",
          "height": 35
        },
        "id": "ZKjkTPKdSToQ",
        "outputId": "67969cb5-6549-4d80-fe88-1f15ca91fd46"
      },
      "execution_count": null,
      "outputs": [
        {
          "output_type": "execute_result",
          "data": {
            "text/plain": [
              "'div id=button_23 class=\"button\"'"
            ],
            "application/vnd.google.colaboratory.intrinsic+json": {
              "type": "string"
            }
          },
          "metadata": {},
          "execution_count": 67
        }
      ]
    },
    {
      "cell_type": "code",
      "source": [
        "print(Button('click me', 'alert(\"hello\")'))"
      ],
      "metadata": {
        "colab": {
          "base_uri": "https://localhost:8080/"
        },
        "id": "Rk2Iz6SSR4yz",
        "outputId": "964cd08a-a698-4972-9a7f-3e4ffbeb06a0"
      },
      "execution_count": null,
      "outputs": [
        {
          "output_type": "stream",
          "name": "stdout",
          "text": [
            "('div id=button_23 class=\"button\"', ('button', 'click me'), ('script', '\\n        $(\\'#button_23\\').on(\\'click\\', function() {\\n          alert(\"hello\")\\n        }\\n        '))\n"
          ]
        }
      ]
    },
    {
      "cell_type": "code",
      "source": [
        "def get_id(raw):\n",
        "  # find pattern of id={}\n",
        "  return raw[0].split(' id=')[1].split()[0]\n",
        "\n",
        "get_id(button('click me', 'alert(\"hello\")'))"
      ],
      "metadata": {
        "id": "9SHfeKnlHlUg",
        "colab": {
          "base_uri": "https://localhost:8080/",
          "height": 35
        },
        "outputId": "fea88ecc-8bac-4720-d684-a5055a22f264"
      },
      "execution_count": null,
      "outputs": [
        {
          "output_type": "execute_result",
          "data": {
            "text/plain": [
              "'button_23'"
            ],
            "application/vnd.google.colaboratory.intrinsic+json": {
              "type": "string"
            }
          },
          "metadata": {},
          "execution_count": 72
        }
      ]
    },
    {
      "cell_type": "code",
      "source": [
        "class Element:\n",
        "  tag, id, klass, style = None, None, None, None"
      ],
      "metadata": {
        "id": "CwKuwBsRQUvd"
      },
      "execution_count": null,
      "outputs": []
    },
    {
      "cell_type": "code",
      "source": [],
      "metadata": {
        "id": "4_nH87LMU-qc"
      },
      "execution_count": null,
      "outputs": []
    }
  ]
}